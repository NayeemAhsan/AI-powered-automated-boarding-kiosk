{
 "cells": [
  {
   "cell_type": "code",
   "execution_count": 1,
   "metadata": {},
   "outputs": [],
   "source": [
    "import os\n",
    "import time\n",
    "import pandas as pd\n",
    "import yaml\n",
    "import datetime\n",
    "from dotenv import find_dotenv, load_dotenv"
   ]
  },
  {
   "cell_type": "code",
   "execution_count": 2,
   "metadata": {},
   "outputs": [
    {
     "data": {
      "text/plain": [
       "True"
      ]
     },
     "execution_count": 2,
     "metadata": {},
     "output_type": "execute_result"
    }
   ],
   "source": [
    "# Load the config file\n",
    "with open('./config.yaml') as yaml_file:\n",
    "    config = yaml.safe_load(yaml_file)\n",
    "# Load environment variables\n",
    "load_dotenv(find_dotenv())"
   ]
  },
  {
   "cell_type": "code",
   "execution_count": 3,
   "metadata": {},
   "outputs": [],
   "source": [
    "from step_5.validation import *\n",
    "from kiosk_main import load_manifest_file, get_id, get_boarding_pass, get_faces_from_video"
   ]
  },
  {
   "cell_type": "code",
   "execution_count": 4,
   "metadata": {},
   "outputs": [],
   "source": [
    "manifest_file = load_manifest_file()"
   ]
  },
  {
   "cell_type": "code",
   "execution_count": null,
   "metadata": {},
   "outputs": [],
   "source": [
    "manifest_file.head()"
   ]
  },
  {
   "cell_type": "code",
   "execution_count": null,
   "metadata": {},
   "outputs": [],
   "source": [
    "# get the ID documents\n",
    "id_data = get_id()"
   ]
  },
  {
   "cell_type": "code",
   "execution_count": null,
   "metadata": {},
   "outputs": [],
   "source": [
    "# get the boarding pass info\n",
    "boarding_pass_data = get_boarding_pass()"
   ]
  },
  {
   "cell_type": "code",
   "execution_count": 5,
   "metadata": {},
   "outputs": [],
   "source": [
    "id_data = [{'document_index': 1, 'FirstName': {'value': 'Libby', 'confidence': 0.976}, 'LastName': {'value': 'Herold', 'confidence': 0.99}, 'DocumentNumber': {'value': 'D7976131', 'confidence': 0.99}, 'DateOfBirth': {'value': datetime.date(1996, 2, 10), 'confidence': 0.99}, 'DateOfExpiration': {'value': datetime.date(2028, 9, 12), 'confidence': 0.99}, 'CountryRegion': {'value': 'USA', 'confidence': 0.995}, 'Region': {'value': 'California', 'confidence': 0.99}}]"
   ]
  },
  {
   "cell_type": "code",
   "execution_count": 6,
   "metadata": {},
   "outputs": [],
   "source": [
    "boarding_pass_data = [{'document_index': 1, 'doc_type': '591e01b4-b8ce-4c87-a3f2-53da7a437a01:591e01b4-b8ce-4c87-a3f2-53da7a437a01', 'confidence': 0.961, 'model_id': '591e01b4-b8ce-4c87-a3f2-53da7a437a01', 'fields': {'Destination': {'value': 'Chicago', 'confidence': 0.99}, 'Seat': {'value': '3D', 'confidence': 0.99}, 'Last Name': {'value': 'Herold', 'confidence': 0.995}, 'Origin': {'value': 'San Francisco', 'confidence': 0.809}, 'First Name': {'value': 'Libby', 'confidence': 0.994}, 'Flight_No': {'value': '234', 'confidence': 0.99}}}]"
   ]
  },
  {
   "cell_type": "code",
   "execution_count": 7,
   "metadata": {},
   "outputs": [],
   "source": [
    "# verify faces\n",
    "# face_results = get_faces_from_video()\n",
    "face_results = [{'faceId': '8344e744-601c-4f4e-905b-aaf21c3f16b0', 'candidates': [{'personId': 'eac60023-b565-449f-be9d-af25a2524185', 'confidence': 0.95612}]}]"
   ]
  },
  {
   "cell_type": "code",
   "execution_count": 8,
   "metadata": {},
   "outputs": [
    {
     "name": "stderr",
     "output_type": "stream",
     "text": [
      "2024-10-17 14:18:55,628 Starting validation process...\n",
      "2024-10-17 14:18:55,630 Name Validation\n",
      "2024-10-17 14:18:55,650 Name mismatch: ID(LIBBY HEROLD), BP(LIBBY HEROLD), Manifest did not match.\n",
      "2024-10-17 14:18:55,651 DoB Validation\n",
      "2024-10-17 14:18:55,653 DoB mismatch: ID(1996-02-10), Manifest(1984-03-23) did not match.\n",
      "2024-10-17 14:18:55,655 Boarding Pass Validation\n",
      "2024-10-17 14:18:55,656 Face Validation\n",
      "2024-10-17 14:18:55,661 Name Validation\n",
      "2024-10-17 14:18:55,663 Name mismatch: ID(LIBBY HEROLD), BP(LIBBY HEROLD), Manifest did not match.\n",
      "2024-10-17 14:18:55,664 DoB Validation\n",
      "2024-10-17 14:18:55,665 DoB mismatch: ID(1996-02-10), Manifest(1994-04-03) did not match.\n",
      "2024-10-17 14:18:55,666 Boarding Pass Validation\n",
      "2024-10-17 14:18:55,667 Face Validation\n",
      "2024-10-17 14:18:55,672 Name Validation\n",
      "2024-10-17 14:18:55,674 Name mismatch: ID(LIBBY HEROLD), BP(LIBBY HEROLD), Manifest did not match.\n",
      "2024-10-17 14:18:55,674 DoB Validation\n",
      "2024-10-17 14:18:55,678 DoB mismatch: ID(1996-02-10), Manifest(1974-08-25) did not match.\n",
      "2024-10-17 14:18:55,679 Boarding Pass Validation\n",
      "2024-10-17 14:18:55,703 Face Validation\n",
      "2024-10-17 14:18:55,705 Name Validation\n",
      "2024-10-17 14:18:55,707 DoB Validation\n",
      "2024-10-17 14:18:55,708 DoB mismatch: ID(1996-02-10), Manifest(1966-05-11) did not match.\n",
      "2024-10-17 14:18:55,709 Boarding Pass Validation\n",
      "2024-10-17 14:18:55,710 Face Validation\n",
      "2024-10-17 14:18:55,712 Name Validation\n",
      "2024-10-17 14:18:55,719 Name mismatch: ID(LIBBY HEROLD), BP(LIBBY HEROLD), Manifest did not match.\n",
      "2024-10-17 14:18:55,721 DoB Validation\n",
      "2024-10-17 14:18:55,722 DoB mismatch: ID(1996-02-10), Manifest(1997-04-01) did not match.\n",
      "2024-10-17 14:18:55,723 Boarding Pass Validation\n",
      "2024-10-17 14:18:55,724 Face Validation\n",
      "2024-10-17 14:18:55,725 Name Validation\n",
      "2024-10-17 14:18:55,726 Name mismatch: ID(LIBBY HEROLD), BP(LIBBY HEROLD), Manifest did not match.\n",
      "2024-10-17 14:18:55,727 DoB Validation\n",
      "2024-10-17 14:18:55,739 DoB mismatch: ID(1996-02-10), Manifest(1977-08-31) did not match.\n",
      "2024-10-17 14:18:55,740 Boarding Pass Validation\n",
      "2024-10-17 14:18:55,742 Face Validation\n",
      "2024-10-17 14:18:55,743 No valid rows found.\n"
     ]
    }
   ],
   "source": [
    "passenger_info = validate_all(id_data, boarding_pass_data, face_results, manifest_file)"
   ]
  },
  {
   "cell_type": "code",
   "execution_count": null,
   "metadata": {},
   "outputs": [],
   "source": [
    "print(passenger_info)"
   ]
  },
  {
   "cell_type": "code",
   "execution_count": 9,
   "metadata": {},
   "outputs": [
    {
     "data": {
      "text/plain": [
       "'Some of the information provided does not match our records or your identity could not be verified.\\nPlease see a customer service representative.'"
      ]
     },
     "execution_count": 9,
     "metadata": {},
     "output_type": "execute_result"
    }
   ],
   "source": [
    "get_validation_messages(passenger_info)"
   ]
  },
  {
   "cell_type": "code",
   "execution_count": null,
   "metadata": {},
   "outputs": [],
   "source": []
  },
  {
   "cell_type": "code",
   "execution_count": null,
   "metadata": {},
   "outputs": [],
   "source": []
  }
 ],
 "metadata": {
  "kernelspec": {
   "display_name": "azure-ai",
   "language": "python",
   "name": "python3"
  },
  "language_info": {
   "codemirror_mode": {
    "name": "ipython",
    "version": 3
   },
   "file_extension": ".py",
   "mimetype": "text/x-python",
   "name": "python",
   "nbconvert_exporter": "python",
   "pygments_lexer": "ipython3",
   "version": "3.12.3"
  }
 },
 "nbformat": 4,
 "nbformat_minor": 2
}
