{
 "cells": [
  {
   "cell_type": "code",
   "execution_count": 1,
   "metadata": {},
   "outputs": [],
   "source": [
    "import os\n",
    "import time\n",
    "import pandas as pd\n",
    "import yaml\n",
    "import datetime\n",
    "from dotenv import find_dotenv, load_dotenv"
   ]
  },
  {
   "cell_type": "code",
   "execution_count": 2,
   "metadata": {},
   "outputs": [
    {
     "data": {
      "text/plain": [
       "True"
      ]
     },
     "execution_count": 2,
     "metadata": {},
     "output_type": "execute_result"
    }
   ],
   "source": [
    "# Load the config file\n",
    "# with open('./config.yaml') as yaml_file:\n",
    "    #config = yaml.safe_load(yaml_file)\n",
    "# Load environment variables\n",
    "load_dotenv(find_dotenv())"
   ]
  },
  {
   "cell_type": "code",
   "execution_count": 3,
   "metadata": {},
   "outputs": [],
   "source": [
    "from validation import validate_all, get_validation_messages\n",
    "from kiosk_main import load_manifest_file, get_id, get_boarding_pass"
   ]
  },
  {
   "cell_type": "code",
   "execution_count": 4,
   "metadata": {},
   "outputs": [],
   "source": [
    "manifest_file = load_manifest_file()"
   ]
  },
  {
   "cell_type": "code",
   "execution_count": null,
   "metadata": {},
   "outputs": [],
   "source": [
    "manifest_file.head()"
   ]
  },
  {
   "cell_type": "code",
   "execution_count": null,
   "metadata": {},
   "outputs": [],
   "source": [
    "# get the ID documents\n",
    "id_data = get_id()"
   ]
  },
  {
   "cell_type": "code",
   "execution_count": null,
   "metadata": {},
   "outputs": [],
   "source": [
    "# get the boarding pass info\n",
    "boarding_pass_data = get_boarding_pass()"
   ]
  },
  {
   "cell_type": "code",
   "execution_count": 11,
   "metadata": {},
   "outputs": [],
   "source": [
    "id_data = [{'document_index': 1, 'FirstName': {'value': 'Libby', 'confidence': 0.976}, 'LastName': {'value': 'Herold', 'confidence': 0.99}, 'DocumentNumber': {'value': 'D7976131', 'confidence': 0.99}, 'DateOfBirth': {'value': datetime.date(1996, 2, 10), 'confidence': 0.99}, 'DateOfExpiration': {'value': datetime.date(2028, 9, 12), 'confidence': 0.99}, 'CountryRegion': {'value': 'USA', 'confidence': 0.995}, 'Region': {'value': 'California', 'confidence': 0.99}}]"
   ]
  },
  {
   "cell_type": "code",
   "execution_count": 15,
   "metadata": {},
   "outputs": [],
   "source": [
    "id_data1 = [{'document_index': 1, 'FirstName': {'value': 'AVKASH', 'confidence': 0.617}, 'LastName': {'value': 'CHAUHAN', 'confidence': 0.919}, 'DocumentNumber': {'value': 'D1234567', 'confidence': 0.99}, 'DateOfBirth': {'value': datetime.date(1990, 1, 1), 'confidence': 0.99}, 'DateOfExpiration': {'value': datetime.date(2025, 1, 1), 'confidence': 0.99}, 'Sex': {'value': 'M', 'confidence': 0.99}, 'Address': {'value': None, 'confidence': 0.99}, 'CountryRegion': {'value': 'USA', 'confidence': 0.995}, 'Region': {'value': 'California', 'confidence': 0.99}}]"
   ]
  },
  {
   "cell_type": "code",
   "execution_count": 12,
   "metadata": {},
   "outputs": [],
   "source": [
    "boarding_pass_data = [{'document_index': 1, 'doc_type': '591e01b4-b8ce-4c87-a3f2-53da7a437a01:591e01b4-b8ce-4c87-a3f2-53da7a437a01', 'confidence': 0.961, 'model_id': '591e01b4-b8ce-4c87-a3f2-53da7a437a01', 'fields': {'Destination': {'value': 'Chicago', 'confidence': 0.99}, 'Seat': {'value': '3D', 'confidence': 0.99}, 'Last Name': {'value': 'Herold', 'confidence': 0.995}, 'Origin': {'value': 'San Francisco', 'confidence': 0.809}, 'First Name': {'value': 'Libby', 'confidence': 0.994}, 'Flight_No': {'value': '234', 'confidence': 0.99}}}]"
   ]
  },
  {
   "cell_type": "code",
   "execution_count": 16,
   "metadata": {},
   "outputs": [],
   "source": [
    "boarding_pass_data1 = [{'document_index': 1, 'doc_type': '591e01b4-b8ce-4c87-a3f2-53da7a437a01:591e01b4-b8ce-4c87-a3f2-53da7a437a01', 'confidence': 0.948, 'model_id': '591e01b4-b8ce-4c87-a3f2-53da7a437a01', 'fields': {'Last Name': {'value': 'Chauhan', 'confidence': 0.995}, 'First Name': {'value': 'Avkash', 'confidence': 0.994}, 'Origin': {'value': 'San Francisco', 'confidence': 0.728}, 'Flight_No': {'value': '234', 'confidence': 0.99}, 'Seat': {'value': '20A', 'confidence': 0.99}, 'Destination': {'value': 'Chicago', 'confidence': 0.99}}}]"
   ]
  },
  {
   "cell_type": "code",
   "execution_count": 8,
   "metadata": {},
   "outputs": [],
   "source": [
    "# verify faces\n",
    "# face_results = get_faces_from_video()\n",
    "face_results = [{'faceId': '8344e744-601c-4f4e-905b-aaf21c3f16b0', 'candidates': [{'personId': 'eac60023-b565-449f-be9d-af25a2524185', 'confidence': 0.95612}]}]"
   ]
  },
  {
   "cell_type": "code",
   "execution_count": 17,
   "metadata": {},
   "outputs": [
    {
     "name": "stderr",
     "output_type": "stream",
     "text": [
      "2024-10-17 23:37:14,968 Starting validation process...\n",
      "2024-10-17 23:37:14,972 Name Validation\n",
      "2024-10-17 23:37:14,973 Name mismatch: ID(AVKASH CHAUHAN), BP(AVKASH CHAUHAN), Manifest (SAMEER KUMAR) did not match.\n",
      "2024-10-17 23:37:14,974 DoB Validation\n",
      "2024-10-17 23:37:14,975 DoB Mismatch: ID(1990-01-01), Manifest(1984-03-23) did not match.\n",
      "2024-10-17 23:37:14,976 Boarding Pass Validation\n",
      "2024-10-17 23:37:14,977 Boarding Pass not Matched. bp_value:{bp_value}, manifest_value:{manifest_value}\n",
      "2024-10-17 23:37:14,977 Face Validation\n",
      "2024-10-17 23:37:14,978 Face Matched\n",
      "2024-10-17 23:37:14,980 Name Validation\n",
      "2024-10-17 23:37:14,981 Name mismatch: ID(AVKASH CHAUHAN), BP(AVKASH CHAUHAN), Manifest (RADHA KUMAR) did not match.\n",
      "2024-10-17 23:37:14,982 DoB Validation\n",
      "2024-10-17 23:37:14,983 DoB Mismatch: ID(1990-01-01), Manifest(1994-04-03) did not match.\n",
      "2024-10-17 23:37:14,983 Boarding Pass Validation\n",
      "2024-10-17 23:37:14,984 Boarding Pass not Matched. bp_value:{bp_value}, manifest_value:{manifest_value}\n",
      "2024-10-17 23:37:14,985 Face Validation\n",
      "2024-10-17 23:37:14,986 Face Matched\n",
      "2024-10-17 23:37:14,989 Name Validation\n",
      "2024-10-17 23:37:14,992 Name mismatch: ID(AVKASH CHAUHAN), BP(AVKASH CHAUHAN), Manifest (JAMES WEBB) did not match.\n",
      "2024-10-17 23:37:14,993 DoB Validation\n",
      "2024-10-17 23:37:14,995 DoB Mismatch: ID(1990-01-01), Manifest(1974-08-25) did not match.\n",
      "2024-10-17 23:37:14,996 Boarding Pass Validation\n",
      "2024-10-17 23:37:14,997 Boarding Pass not Matched. bp_value:{bp_value}, manifest_value:{manifest_value}\n",
      "2024-10-17 23:37:14,998 Face Validation\n",
      "2024-10-17 23:37:14,999 Face Matched\n",
      "2024-10-17 23:37:15,000 Name Validation\n",
      "2024-10-17 23:37:15,002 Name mismatch: ID(AVKASH CHAUHAN), BP(AVKASH CHAUHAN), Manifest (LIBBY HEROLD) did not match.\n",
      "2024-10-17 23:37:15,003 DoB Validation\n",
      "2024-10-17 23:37:15,004 DoB Mismatch: ID(1990-01-01), Manifest(1966-05-11) did not match.\n",
      "2024-10-17 23:37:15,004 Boarding Pass Validation\n",
      "2024-10-17 23:37:15,005 Boarding Pass not Matched. bp_value:{bp_value}, manifest_value:{manifest_value}\n",
      "2024-10-17 23:37:15,006 Face Validation\n",
      "2024-10-17 23:37:15,006 Face Matched\n",
      "2024-10-17 23:37:15,009 Name Validation\n",
      "2024-10-17 23:37:15,010 Name mismatch: ID(AVKASH CHAUHAN), BP(AVKASH CHAUHAN), Manifest (JAMES JACKSON) did not match.\n",
      "2024-10-17 23:37:15,011 DoB Validation\n",
      "2024-10-17 23:37:15,013 DoB Mismatch: ID(1990-01-01), Manifest(1997-04-01) did not match.\n",
      "2024-10-17 23:37:15,015 Boarding Pass Validation\n",
      "2024-10-17 23:37:15,016 Boarding Pass not Matched. bp_value:{bp_value}, manifest_value:{manifest_value}\n",
      "2024-10-17 23:37:15,017 Face Validation\n",
      "2024-10-17 23:37:15,019 Face Matched\n",
      "2024-10-17 23:37:15,022 Name Validation\n",
      "2024-10-17 23:37:15,024 Name Matched: ID(AVKASH CHAUHAN), BP(AVKASH CHAUHAN), Manifest (AVKASH CHAUHAN)\n",
      "2024-10-17 23:37:15,025 DoB Validation\n",
      "2024-10-17 23:37:15,026 DoB Mismatch: ID(1990-01-01), Manifest(1977-08-31) did not match.\n",
      "2024-10-17 23:37:15,027 Boarding Pass Validation\n",
      "2024-10-17 23:37:15,027 Boarding Pass Matched\n",
      "2024-10-17 23:37:15,028 Face Validation\n",
      "2024-10-17 23:37:15,029 Face Matched\n",
      "2024-10-17 23:37:15,031 Name Validation\n",
      "2024-10-17 23:37:15,032 Name Matched: ID(AVKASH CHAUHAN), BP(AVKASH CHAUHAN), Manifest (AVKASH CHAUHAN)\n",
      "2024-10-17 23:37:15,033 DoB Validation\n",
      "2024-10-17 23:37:15,034 DoB Matched. id_dob(1990-01-01), manifest_dob(1990-01-01)\n",
      "2024-10-17 23:37:15,036 Boarding Pass Validation\n",
      "2024-10-17 23:37:15,037 Boarding Pass Matched\n",
      "2024-10-17 23:37:15,038 Face Validation\n",
      "2024-10-17 23:37:15,039 Face Matched\n",
      "2024-10-17 23:37:15,041 Validation successful for row 6. Returning passenger info.\n"
     ]
    },
    {
     "name": "stdout",
     "output_type": "stream",
     "text": [
      "{'FirstName': 'Avkash', 'LastName': 'Chauhan', 'FlightNo': 234, 'BoardingTime': '10:00 AM PST', 'From': 'San Francisco', 'To': 'Chicago', 'Seat': '20A', 'NameValidation': np.True_, 'DoBValidation': np.True_, 'PersonValidation': np.True_, 'BoardingPassValidation': np.True_, 'LuggageValidation': np.False_, 'ValidationStatus': np.True_}\n"
     ]
    }
   ],
   "source": [
    "passenger_info = validate_all(id_data1, boarding_pass_data1, face_results, manifest_file)"
   ]
  },
  {
   "cell_type": "code",
   "execution_count": 18,
   "metadata": {},
   "outputs": [
    {
     "name": "stdout",
     "output_type": "stream",
     "text": [
      "{'FirstName': 'Avkash', 'LastName': 'Chauhan', 'FlightNo': 234, 'BoardingTime': '10:00 AM PST', 'From': 'San Francisco', 'To': 'Chicago', 'Seat': '20A', 'NameValidation': np.True_, 'DoBValidation': np.True_, 'PersonValidation': np.True_, 'BoardingPassValidation': np.True_, 'LuggageValidation': np.False_, 'ValidationStatus': np.True_}\n"
     ]
    }
   ],
   "source": [
    "print(passenger_info)"
   ]
  },
  {
   "cell_type": "code",
   "execution_count": 20,
   "metadata": {},
   "outputs": [],
   "source": [
    "passenger_info1 = {'FirstName': 'Avkash', 'LastName': 'Chauhan', 'FlightNo': 234, 'BoardingTime': '10:00 AM PST', 'From': 'San Francisco', 'To': 'Chicago', 'Seat': '20A', 'NameValidation': True, 'DoBValidation': True, 'PersonValidation': True, 'BoardingPassValidation': True, 'LuggageValidation': True, 'ValidationStatus': True}"
   ]
  },
  {
   "cell_type": "code",
   "execution_count": 21,
   "metadata": {},
   "outputs": [
    {
     "data": {
      "text/plain": [
       "'Dear Avkash Chauhan,\\nYou are welcome to flight #234 leaving at 10:00 AM PST.\\nFrom San Francisco to Chicago, your seat number is 20A, and it is confirmed.\\nWe did not find a prohibited item (lighter) in your carry-on baggage.\\nYour identity is verified, please board the plane.'"
      ]
     },
     "execution_count": 21,
     "metadata": {},
     "output_type": "execute_result"
    }
   ],
   "source": [
    "get_validation_messages(passenger_info1)"
   ]
  },
  {
   "cell_type": "code",
   "execution_count": null,
   "metadata": {},
   "outputs": [],
   "source": []
  },
  {
   "cell_type": "code",
   "execution_count": null,
   "metadata": {},
   "outputs": [],
   "source": []
  }
 ],
 "metadata": {
  "kernelspec": {
   "display_name": "azure-ai",
   "language": "python",
   "name": "python3"
  },
  "language_info": {
   "codemirror_mode": {
    "name": "ipython",
    "version": 3
   },
   "file_extension": ".py",
   "mimetype": "text/x-python",
   "name": "python",
   "nbconvert_exporter": "python",
   "pygments_lexer": "ipython3",
   "version": "3.12.5"
  }
 },
 "nbformat": 4,
 "nbformat_minor": 2
}
