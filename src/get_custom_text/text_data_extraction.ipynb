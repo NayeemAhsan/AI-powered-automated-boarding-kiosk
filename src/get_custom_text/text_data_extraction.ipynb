{
 "cells": [
  {
   "cell_type": "code",
   "execution_count": 1,
   "metadata": {},
   "outputs": [],
   "source": [
    "# Import libraries\n",
    "import os\n",
    "import yaml\n",
    "from dotenv import load_dotenv, find_dotenv\n",
    "from buildCustomModel import build_model as build\n",
    "from extract_custom_doc import analyze_custom_documents as analyze\n",
    "from analyzeID_prebuilt import analyze_identity_documents"
   ]
  },
  {
   "cell_type": "code",
   "execution_count": null,
   "metadata": {},
   "outputs": [],
   "source": [
    "# Load the config file\n",
    "with open('step_2/config.yaml') as yaml_file:\n",
    "    config = yaml.safe_load(yaml_file)\n",
    "# Load environment variables\n",
    "load_dotenv(find_dotenv())"
   ]
  },
  {
   "cell_type": "markdown",
   "metadata": {},
   "source": [
    "Extract ID using a pre-built model"
   ]
  },
  {
   "cell_type": "code",
   "execution_count": 4,
   "metadata": {},
   "outputs": [
    {
     "name": "stdout",
     "output_type": "stream",
     "text": [
      "--------Analyzing ID document #1--------\n",
      "First Name: Libby with confidence: 0.976\n",
      "Last Name: Herold with confidence: 0.99\n",
      "Document Number: D7976131 with confidence: 0.99\n",
      "Date of Birth: 1996-02-10 with confidence: 0.99\n",
      "Date of Expiration: 2028-09-12 with confidence: 0.99\n",
      "Country/Region: USA with confidence: 0.995\n",
      "Region: California with confidence: 0.99\n"
     ]
    }
   ],
   "source": [
    "load_dotenv(find_dotenv())\n",
    "path_to_id_document = os.environ.get(\"file_path_to_id\")\n",
    "analyze_identity_documents(path_to_id_document)"
   ]
  },
  {
   "cell_type": "markdown",
   "metadata": {},
   "source": [
    "Build a custom model by training baording passes"
   ]
  },
  {
   "cell_type": "code",
   "execution_count": null,
   "metadata": {},
   "outputs": [],
   "source": [
    "training_boarding_pass = os.environ.get(\"training_folder_path\")\n",
    "build(training_boarding_pass)"
   ]
  },
  {
   "cell_type": "markdown",
   "metadata": {},
   "source": [
    "Extract boarding pass info from the custom model"
   ]
  },
  {
   "cell_type": "code",
   "execution_count": 7,
   "metadata": {},
   "outputs": [
    {
     "name": "stdout",
     "output_type": "stream",
     "text": [
      "-------- Analyzing document #1 --------\n",
      "Document type: 6cdaeab0-a360-4f4f-9480-f50030143642:6cdaeab0-a360-4f4f-9480-f50030143642\n",
      "Confidence: 0.961\n",
      "Analyzed with model ID: 6cdaeab0-a360-4f4f-9480-f50030143642\n",
      "Field: 'Destination' with value: '<bound method _MyMutableMapping.values of {'type': 'string', 'valueString': 'Chicago', 'content': 'Chicago', 'boundingRegions': [{'pageNumber': 1, 'polygon': [2.335, 3.055, 2.99, 3.055, 2.99, 3.26, 2.335, 3.26]}], 'confidence': 0.99, 'spans': [{'offset': 203, 'length': 7}]}>' and confidence: 0.99\n",
      "Field: 'Seat' with value: '<bound method _MyMutableMapping.values of {'type': 'string', 'valueString': '3D', 'content': '3D', 'boundingRegions': [{'pageNumber': 1, 'polygon': [7.025, 3.055, 7.21, 3.055, 7.21, 3.235, 7.025, 3.235]}], 'confidence': 0.99, 'spans': [{'offset': 230, 'length': 2}]}>' and confidence: 0.99\n",
      "Field: 'Flight_No' with value: '<bound method _MyMutableMapping.values of {'type': 'string', 'valueString': '234', 'content': '234', 'boundingRegions': [{'pageNumber': 1, 'polygon': [5.77, 2.14, 6.055, 2.14, 6.055, 2.31, 5.77, 2.31]}], 'confidence': 0.99, 'spans': [{'offset': 102, 'length': 3}]}>' and confidence: 0.99\n",
      "Field: 'First Name' with value: '<bound method _MyMutableMapping.values of {'type': 'string', 'valueString': 'Libby', 'content': 'Libby', 'boundingRegions': [{'pageNumber': 1, 'polygon': [2.01, 2.135, 2.495, 2.135, 2.495, 2.33, 2.01, 2.33]}], 'confidence': 0.994, 'spans': [{'offset': 86, 'length': 5}]}>' and confidence: 0.994\n",
      "Field: 'Origin' with value: '<bound method _MyMutableMapping.values of {'type': 'string', 'valueString': 'San Francisco', 'content': 'San Francisco', 'boundingRegions': [{'pageNumber': 1, 'polygon': [2.595, 2.825, 3.69, 2.825, 3.69, 3.015, 2.595, 3.015]}], 'confidence': 0.807, 'spans': [{'offset': 157, 'length': 13}]}>' and confidence: 0.807\n",
      "Field: 'Last Name' with value: '<bound method _MyMutableMapping.values of {'type': 'string', 'valueString': 'Herold', 'content': 'Herold', 'boundingRegions': [{'pageNumber': 1, 'polygon': [2.535, 2.14, 3.075, 2.14, 3.075, 2.33, 2.535, 2.33]}], 'confidence': 0.995, 'spans': [{'offset': 92, 'length': 6}]}>' and confidence: 0.995\n"
     ]
    }
   ],
   "source": [
    "model_id = config['doc_intelligence']['custom_models']['boarding_pass_1']\n",
    "if model_id is None:\n",
    "        model_id = build(training_boarding_pass)\n",
    "path_to_id_document = os.getenv(\"file_path_boarding_pass\")  \n",
    "analyze(model_id, path_to_id_document)"
   ]
  },
  {
   "cell_type": "code",
   "execution_count": null,
   "metadata": {},
   "outputs": [],
   "source": []
  }
 ],
 "metadata": {
  "kernelspec": {
   "display_name": "azure-ai",
   "language": "python",
   "name": "python3"
  },
  "language_info": {
   "codemirror_mode": {
    "name": "ipython",
    "version": 3
   },
   "file_extension": ".py",
   "mimetype": "text/x-python",
   "name": "python",
   "nbconvert_exporter": "python",
   "pygments_lexer": "ipython3",
   "version": "3.12.3"
  }
 },
 "nbformat": 4,
 "nbformat_minor": 4
}
